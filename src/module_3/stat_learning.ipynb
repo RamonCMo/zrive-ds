{
 "cells": [
  {
   "cell_type": "markdown",
   "metadata": {},
   "source": [
    "# Statistical Learning.- Targetting Users"
   ]
  },
  {
   "cell_type": "code",
   "execution_count": null,
   "metadata": {},
   "outputs": [],
   "source": [
    "PATH = '../../data/'\n",
    "df_frame = pd.read_csv(PATH + 'feature_frame.csv', engine='pyarrow')\n",
    "print(df_frame.head())\n",
    "print('\\n')"
   ]
  }
 ],
 "metadata": {
  "language_info": {
   "name": "python"
  }
 },
 "nbformat": 4,
 "nbformat_minor": 2
}
