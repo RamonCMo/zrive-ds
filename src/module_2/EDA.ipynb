{
 "cells": [
  {
   "cell_type": "markdown",
   "metadata": {},
   "source": [
    "# Module 2.- EDA"
   ]
  },
  {
   "cell_type": "code",
   "execution_count": 1,
   "metadata": {},
   "outputs": [],
   "source": [
    "import pandas as pd\n",
    "import os\n",
    "import pyarrow\n",
    "import contextlib\n",
    "import io\n",
    "import matplotlib.pyplot as plt \n",
    "import json\n",
    "from collections import Counter"
   ]
  },
  {
   "cell_type": "markdown",
   "metadata": {},
   "source": [
    "# Ex 1\n",
    "\n",
    "## Load BDD "
   ]
  },
  {
   "cell_type": "code",
   "execution_count": 2,
   "metadata": {},
   "outputs": [],
   "source": [
    "PATH = '../../data/'\n",
    "parquet_files = [\"abandoned_carts.parquet\",\"inventory.parquet\",\"orders.parquet\", \"regulars.parquet\", \"users.parquet\"]\n",
    "\n",
    "def get_info_middle(df):\n",
    "    fobj = io.StringIO()\n",
    "    with contextlib.redirect_stdout(fobj) as stdout:\n",
    "        df.info()\n",
    "    fobj.seek(0)\n",
    "    return '\\n'.join(fobj.read().splitlines()[3:-2])\n",
    "\n",
    "abandoned_carts = pd.read_parquet(PATH + parquet_files[0], engine='pyarrow')\n",
    "inventory = pd.read_parquet(PATH + parquet_files[1], engine='pyarrow')\n",
    "orders = pd.read_parquet(PATH + parquet_files[2], engine='pyarrow')\n",
    "regulars = pd.read_parquet(PATH + parquet_files[3], engine='pyarrow')\n",
    "users = pd.read_parquet(PATH + parquet_files[4], engine='pyarrow')"
   ]
  },
  {
   "cell_type": "code",
   "execution_count": null,
   "metadata": {},
   "outputs": [],
   "source": [
    "print('#####Abandoned######\\n#####')\n",
    "print(abandoned_carts.info())\n",
    "print('#####Shape######')\n",
    "print(abandoned_carts.shape)\n",
    "\n",
    "print('#####Inventory#####\\n#####')\n",
    "print(inventory.info())\n",
    "print('#####Shape######')\n",
    "print(inventory.shape)"
   ]
  },
  {
   "cell_type": "code",
   "execution_count": null,
   "metadata": {},
   "outputs": [],
   "source": [
    "\n",
    "print('#####Orders######\\n#####')\n",
    "print(orders.info())\n",
    "print('#####Shape######')\n",
    "print(orders.shape)\n",
    "\n",
    "print('#####Regulars#####\\n#####')\n",
    "print(regulars.info())\n",
    "print('#####Shape######')\n",
    "print(regulars.shape)"
   ]
  },
  {
   "cell_type": "code",
   "execution_count": null,
   "metadata": {},
   "outputs": [],
   "source": [
    "print('#####Users#####\\n#####')\n",
    "print(users.info())\n",
    "print('#####Shape######')\n",
    "print(users.shape)"
   ]
  },
  {
   "cell_type": "markdown",
   "metadata": {},
   "source": [
    "Los datatypes de cada variable son correctos. La unica tabla que contiene Nulls es la de Users, las variables que describen al grupo de usuarios de compra (People, Adults, Children, Babies, Pets), donde People es la que engloba a las demás (sin contar Pets). Para las tablas de ordenes/abandonados los productos se identifican entre comas ','. Vamos a comprobar que no haya duplicidades en registros que deberian ser unicos. "
   ]
  },
  {
   "cell_type": "code",
   "execution_count": null,
   "metadata": {},
   "outputs": [],
   "source": [
    "def unique_val(dataframe, columna):\n",
    "    return dataframe[columna].nunique() == dataframe.shape[0]\n",
    "print('#####Abandoned######')\n",
    "print(unique_val(abandoned_carts, 'id'))\n",
    "print('#####Inventoy######')\n",
    "print(unique_val(inventory, 'variant_id'))\n",
    "print('#####Orders######')\n",
    "print(unique_val(orders, 'id'))\n",
    "print('#####Regulars######')\n",
    "print(unique_val(regulars, 'user_id'))\n",
    "print('#####Users######')\n",
    "print(unique_val(users, 'user_id'))"
   ]
  },
  {
   "cell_type": "markdown",
   "metadata": {},
   "source": [
    "Con esto Podemos ver que un usuario puede pedir mas de un item como consumo habitual. Comprobaremos tmabien que todos los items del inventario estan en alguna de las tablas que contenga items, es decir, no hay itmes que no estan registrados (el primer nuemro de la lista del diccionario es los items de la tabla key y el segundo numero son los itmes para la tabla inventario)"
   ]
  },
  {
   "cell_type": "code",
   "execution_count": 4,
   "metadata": {},
   "outputs": [
    {
     "name": "stdout",
     "output_type": "stream",
     "text": [
      "{'orders': [2117, 1733], 'regulars': [1843, 1733], 'abandoned_carts': 'correcto'}\n"
     ]
    }
   ],
   "source": [
    "def check_items(orders_df, regulars_df, abandoned_carts_df, inventory_df):\n",
    "    items_inventory = inventory_df['variant_id'].unique()\n",
    "\n",
    "    orders_df = orders_df.explode('ordered_items')\n",
    "    abandoned_carts_df = abandoned_carts_df.explode('variant_id')\n",
    "    items_orders = orders_df['ordered_items'].unique()\n",
    "    items_regulars = regulars_df['variant_id'].unique()\n",
    "    items_abandoned_carts = abandoned_carts_df['variant_id'].unique()\n",
    "    problemas = {}\n",
    "    if len(items_orders) > len(items_inventory):\n",
    "        problemas['orders'] = [len(items_orders), len(items_inventory)]\n",
    "    else:\n",
    "        problemas['orders'] = 'correcto'    \n",
    "    if len(items_regulars) > len(items_inventory):\n",
    "        problemas['regulars'] = [len(items_regulars), len(items_inventory)]\n",
    "    else:\n",
    "        problemas['regulars'] = 'correcto'\n",
    "    if len(items_abandoned_carts) > len(items_inventory):\n",
    "        problemas['abandoned_carts'] = [len(items_abandoned_carts), len(items_inventory)]\n",
    "    else:\n",
    "        problemas['abandoned_carts'] = 'correcto'\n",
    "    return problemas\n",
    "\n",
    "resultados = check_items(orders_df= orders, regulars_df=regulars, abandoned_carts_df=abandoned_carts, inventory_df=inventory)\n",
    "print(resultados)"
   ]
  },
  {
   "cell_type": "markdown",
   "metadata": {},
   "source": [
    "Para las tablas orders y regulars encontramos items que no estan registrados en el inventario y será dificil trackear sus nombres, tipo y propiedades. Hay un 18% de items no trackeados en Orders y un 5% en Regulars.  Esto puede ser debido a un problema al identificar los productos al pasarlos por el lector, que sean items que se externalizan a proveedores no registrados o tambien que un mismo item esté identificado dos veces. Se tendrá en cuenta en prompts siguentes. Idealmente haremos lo mismo para los usuarios."
   ]
  },
  {
   "cell_type": "code",
   "execution_count": null,
   "metadata": {},
   "outputs": [],
   "source": [
    "def check_users(users_df, orders_df, regulars_df, abandoned_carts_df):\n",
    "    check_users = users_df['user_id'].unique()\n",
    "    check_orders = orders_df['user_id'].unique()\n",
    "    check_regulars = regulars_df['user_id'].unique()\n",
    "    check_abandoned_carts = abandoned_carts_df['user_id'].unique()\n",
    "    problemas = {}\n",
    "    if len(check_orders) > len(check_users):\n",
    "        problemas['orders'] = [len(check_orders), len(check_users)]\n",
    "    else:\n",
    "        problemas['orders'] = 'correcto'    \n",
    "    if len(check_regulars) > len(check_users):\n",
    "        problemas['regulars'] = [len(check_regulars), len(check_users)]\n",
    "    else:\n",
    "        problemas['regulars'] = 'correcto'\n",
    "    if len(check_abandoned_carts) > len(check_users):\n",
    "        problemas['abandoned_carts'] = [len(check_abandoned_carts), len(check_users)]\n",
    "    else:\n",
    "        problemas['abandoned_carts'] = 'correcto'\n",
    "    return problemas\n",
    "\n",
    "resultados = check_users(users_df=users, orders_df=orders, regulars_df=regulars, abandoned_carts_df=abandoned_carts)\n",
    "print(resultados)"
   ]
  },
  {
   "cell_type": "markdown",
   "metadata": {},
   "source": [
    "Los usuarios estan, por contra, todos identificados."
   ]
  },
  {
   "cell_type": "markdown",
   "metadata": {},
   "source": [
    "## EDA - Productos\n",
    "\n",
    "A continuación se presentan algunas hipótesis o análisis descriptivo de los datos que pretenden responder a ciertas preguntas para entender mejor el negocio."
   ]
  },
  {
   "cell_type": "markdown",
   "metadata": {},
   "source": [
    "### Items más vendidos\n",
    "\n",
    "En esta seccion obtendremos un head de los items más y menos vendidos y las clase de item más vendido (en toda la historia de la tienda) con el promedio de ítems de un carrito de compra"
   ]
  },
  {
   "cell_type": "code",
   "execution_count": null,
   "metadata": {},
   "outputs": [],
   "source": [
    "def most_item(orders_df, inventory_df):\n",
    "    len1 = len(orders)\n",
    "    orders_df = orders_df.explode('ordered_items')\n",
    "    len2 = len(orders_df)\n",
    "    avg_items_cart = len2/len1\n",
    "    item_counts = orders_df['ordered_items'].value_counts().reset_index()\n",
    "    item_counts.columns = ['Item_ID', 'Cantidad']\n",
    "    merged_df = item_counts.merge(inventory_df, left_on='Item_ID', right_on='variant_id', how='left')\n",
    "    return merged_df, avg_items_cart\n",
    "\n",
    "result1, avg_items = most_item(orders_df=orders, inventory_df=inventory)\n",
    "print('Los items mas vendidos en la histira de la tienda son:')\n",
    "print(result1.loc[:,['Item_ID', 'Cantidad', 'price', 'vendor', 'product_type', 'tags']].head(10))\n",
    "print('\\n')\n",
    "print(f'Un carrito tiene {avg_items:.2f} ítmes en promedio')"
   ]
  },
  {
   "cell_type": "code",
   "execution_count": null,
   "metadata": {},
   "outputs": [],
   "source": [
    "print(result1.loc[:,['Item_ID', 'Cantidad', 'price', 'vendor', 'product_type', 'tags']].tail(10))"
   ]
  },
  {
   "cell_type": "markdown",
   "metadata": {},
   "source": [
    "Los productos no registrados aparecen entre los más y menos vendidos y es un problema no poder identificarlos. Es probable que, al ser un historico el dataset, haya habido un renombre de productos. El producto más vendido es leche de avena Oatly y el que menos una afeitadora Gillette (de los que tenemos registro). Podemos cuestionar seguir vendiendolas (teniendo encuenta que es solo un exploratory data-analysis). Los prosuctos mas vendidos por tipo de producto:"
   ]
  },
  {
   "cell_type": "code",
   "execution_count": null,
   "metadata": {},
   "outputs": [],
   "source": [
    "most_product = result1.groupby('product_type')['product_type'].count() \\\n",
    "                             .reset_index(name='count') \\\n",
    "                             .sort_values(['count'], ascending=False)\n",
    "most_product.plot.bar(x='product_type', y='count')\n",
    "plt.xticks(fontsize=6)\n",
    "plt.show()"
   ]
  },
  {
   "cell_type": "markdown",
   "metadata": {},
   "source": [
    "Vemos que los productos mas vendidos (sin contar aquellos no trackeados) son productos de limpieza y productos de comida preparada (cuidado del hogar), lo que se esperaría en el sector de bienes de consumo. Podemos identificar que la tienda tiene un sesgo en productos eco y bio que suelen ser más caros que productos estándar. Podríamos apropximar en cierta medida esta hipótesis mediante la columna \"compare_at_price\" que indica (suposición) el precio del prodcuto antes de aplicar un descuento. Comprobaremos el ranking de tipos de productos más rebajados."
   ]
  },
  {
   "cell_type": "code",
   "execution_count": null,
   "metadata": {},
   "outputs": [],
   "source": [
    "def calcular_ranking_rebajas(inventory):\n",
    "    inventory['rebaja_absoluta'] = inventory['compare_at_price'] - inventory['price']\n",
    "    inventory['rebaja_relativa'] = ((inventory['compare_at_price'] / inventory['price']) - 1) * 100\n",
    "    grouped = inventory.groupby('product_type').agg({\n",
    "        'rebaja_absoluta': 'mean',\n",
    "        'rebaja_relativa': 'mean'\n",
    "    }).reset_index()\n",
    "\n",
    "    grouped['ranking_absolutos'] = grouped['rebaja_absoluta'].rank(ascending=False).astype(int)\n",
    "    grouped['ranking_relativos'] = grouped['rebaja_relativa'].rank(ascending=False).astype(int)\n",
    "    grouped = grouped.sort_values(['ranking_relativos'], ascending=[True])\n",
    "    grouped = grouped.rename(columns={\n",
    "        'product_type': 'Tipo de Producto',\n",
    "        'ranking_absolutos': 'Ranking Absolutos',\n",
    "        'rebaja_absoluta': 'Rebaja Absoluta Promedio',\n",
    "        'ranking_relativos': 'Ranking Relativos',\n",
    "        'rebaja_relativa': 'Porcentaje de Rebaja Promedio'\n",
    "    })\n",
    "\n",
    "    return grouped[['Tipo de Producto', 'Ranking Relativos', 'Porcentaje de Rebaja Promedio', 'Ranking Absolutos', 'Rebaja Absoluta Promedio']]\n",
    "\n",
    "# Ejemplo de uso\n",
    "discount = calcular_ranking_rebajas(inventory = inventory)\n",
    "print(discount.head())"
   ]
  },
  {
   "cell_type": "markdown",
   "metadata": {},
   "source": [
    "Los productos mas rebajados son del tipo crema solar y salsa de cocina (casi a la mitad de precio). El descuento de la crema solar implica cobrar 3.3$ menos en promedio por ese tipo de producto y el descuento de las salsas de implica una perdida de 0.46$ promedia por ese tipo de producto. Suponiendo que el dataset fue recogido el 14/03/2022 (ultimo día en el que se recibió un Order), parece una mala politica rebajar la crema solar en invierno (en caso que quiera venderse mas en verano)"
   ]
  },
  {
   "cell_type": "markdown",
   "metadata": {},
   "source": [
    "### Cesta promedio"
   ]
  },
  {
   "cell_type": "code",
   "execution_count": null,
   "metadata": {},
   "outputs": [],
   "source": [
    "def common_cart(orders_df, inventory_df):\n",
    "    orders_mod = orders_df.copy()\n",
    "    orders_mod['cesta'] = orders_mod['ordered_items'].astype(str)\n",
    "\n",
    "    cestas_contadas = orders_mod.groupby('cesta').size().reset_index(name='cantidad')\n",
    "    cesta_mas_comun = cestas_contadas.loc[cestas_contadas['cantidad'].idxmax()]\n",
    "    cesta_text = pd.DataFrame({'Cesta':[int(e) for e in cesta_mas_comun['cesta'].strip('[]').split()]})\n",
    "    \n",
    "    #cONTAMOS cantidad productos\n",
    "    cesta_con_cantidad = cesta_text.groupby('Cesta').size().reset_index(name='cantidad')\n",
    "    cesta_con_precios = cesta_con_cantidad.merge(inventory_df, left_on='Cesta', right_on='variant_id', how='left')\n",
    "    cesta_con_precios['precio_total'] = cesta_con_precios['cantidad'] * cesta_con_precios['price']\n",
    "\n",
    "    return cesta_con_precios\n",
    "nombres_cesta = common_cart(orders_df=orders, inventory_df=inventory)\n",
    "print(\"Cesta Promedio:\\n\", nombres_cesta)"
   ]
  },
  {
   "cell_type": "markdown",
   "metadata": {},
   "source": [
    "La cesta mas comun son cuatro bricks de leche Oatly por un precio total de 43.16$. Evaluaremos tambien en el timpo la cesta promedio. Como hipotesis inicial pensaríamos que la cesta promedio debería ser constante en el tiempo"
   ]
  },
  {
   "cell_type": "code",
   "execution_count": null,
   "metadata": {},
   "outputs": [],
   "source": [
    "def common_cart_chart(orders_df):\n",
    "    orders_df = orders_df.explode(column='ordered_items', ignore_index=True)\n",
    "    orders_df = orders_df.groupby(['order_date', 'id'])['ordered_items'].count().reset_index()\n",
    "    month_avg_items = orders_df.groupby(orders_df['order_date'].dt.to_period(\"M\"))['ordered_items'].mean().reset_index()\n",
    "    \n",
    "    plt.figure(figsize=(9, 5))\n",
    "    month_avg_items.plot(marker='.', linestyle='-')\n",
    "    plt.xlabel('Month')\n",
    "    plt.ylabel('Avg Cart Size')\n",
    "    plt.title('Cesta promedio')\n",
    "    plt.xticks(rotation=45)\n",
    "    plt.grid(True)\n",
    "    plt.tight_layout()\n",
    "    plt.show()\n",
    "\n",
    "common_cart_chart(orders_df=orders)"
   ]
  },
  {
   "cell_type": "markdown",
   "metadata": {},
   "source": [
    "Rechazamos H0, la cesta promedio baja desde el inicio de la primera compra de la tienda. Deberíamos mirar si el precio promedio al menos se mantiene constante y son los consumidores quienes han cambiado la composición de la cesta, pero como no tenemos información de ítems no trackeados el resultado se vería distorsionado. Repetiremos el grafico solo para cestas de las que disponemos info y en prompts posteriores investigaremos sobre la perdida de trackeo de ítems."
   ]
  },
  {
   "cell_type": "code",
   "execution_count": null,
   "metadata": {},
   "outputs": [],
   "source": [
    "def common_cart_inventory(orders_df, inventory_df):\n",
    "    orders_df = orders_df.explode(column='ordered_items', ignore_index=True)\n",
    "    orders_inventory = orders_df.merge(inventory_df, left_on='ordered_items', right_on='variant_id', how='inner')\n",
    "    orders_inventory['order_date'] = pd.to_datetime(orders_inventory['order_date'])\n",
    "    orders_inventory = orders_inventory.groupby(['order_date', 'id'])['ordered_items'].count().reset_index()\n",
    "    orders_inventory['month'] = orders_inventory['order_date'].dt.to_period('M')\n",
    "    #orders_inventory['ordered_items'] = pd.to_numeric(orders_inventory['ordered_items'])\n",
    "    month_avg_items = orders_inventory.groupby('month')['ordered_items'].mean()\n",
    "\n",
    "    plt.figure(figsize=(9, 5))\n",
    "    month_avg_items.plot(marker='.', linestyle='-')\n",
    "    plt.xlabel('Month')\n",
    "    plt.ylabel('Avg Cart Size')\n",
    "    plt.title('Cesta promedio')\n",
    "    plt.xticks(rotation=45)\n",
    "    plt.grid(True)\n",
    "    plt.tight_layout()\n",
    "    plt.show()\n",
    "    \n",
    "common_cart_inventory(orders_df=orders, inventory_df=inventory)"
   ]
  },
  {
   "cell_type": "markdown",
   "metadata": {},
   "source": [
    "la cesta de ítems si trackeados cumple aproximadamente H0, exceptuando los primeros meses. Esto indica que los primeres meses de la base de datos Orders el data-walmart no registraba los ítmes en el inventario o que por el camino ha ido eliminandolos/renombrandolos (mala praxis)."
   ]
  },
  {
   "cell_type": "markdown",
   "metadata": {},
   "source": [
    "### Evolucion ordenes"
   ]
  },
  {
   "cell_type": "code",
   "execution_count": null,
   "metadata": {},
   "outputs": [],
   "source": [
    "def plot_series_temporales(orders_df):\n",
    "    orders_df = orders_df.explode('ordered_items')\n",
    "    monthly_orders = orders_df.groupby(orders_df['order_date'].dt.to_period('M')).size()\n",
    "    monthly_items_sold_df = pd.DataFrame({'Month': monthly_orders.index.to_timestamp(), 'Items Sold': monthly_orders.values})\n",
    "    monthly_items_sold_df = monthly_items_sold_df.sort_values(by='Month')\n",
    "\n",
    "    plt.figure(figsize=(9, 5))\n",
    "    plt.plot(monthly_items_sold_df['Month'], monthly_items_sold_df['Items Sold'], marker='o', linestyle='-')\n",
    "    plt.xlabel('Month')\n",
    "    plt.ylabel('Items Sold')\n",
    "    plt.title('Monthly Items Sold')\n",
    "    plt.xticks(rotation=45)\n",
    "    plt.grid(True)\n",
    "    plt.tight_layout()\n",
    "    plt.show()\n",
    "plot_series_temporales(orders_df=orders)"
   ]
  },
  {
   "cell_type": "markdown",
   "metadata": {},
   "source": [
    "La evolucion de ventas fue creciente estos años. A finales de cada año hay un spike en las ventas, posiblemente debido a alguna campaña publicitaria en esos periodos. No se observa estacionalidad, pero si mucha volatilidad a partir de Septiembre 2021. Las ordenes bajan considerablemente el ultimo mes, pero puede ser debido a que la muestra acaba el 14/03/2022 y todavia no tenemos desboqueados los datos de todo el mes."
   ]
  },
  {
   "cell_type": "markdown",
   "metadata": {},
   "source": [
    "Por úlitmo en lo referente a ordenes podemos ver la frecuencia de ordenes entre los usuarios"
   ]
  },
  {
   "cell_type": "code",
   "execution_count": null,
   "metadata": {},
   "outputs": [],
   "source": [
    "def freq_orders(orders_df):\n",
    "    count_user_order_seq = orders_df['user_order_seq'].value_counts()\n",
    "    plt.figure(figsize=(10, 6))\n",
    "    count_user_order_seq.plot(kind='bar')\n",
    "    plt.title('Recuento de ocurrencias de user_order_seq')\n",
    "    plt.xlabel('Valor de user_order_seq')\n",
    "    plt.ylabel('Recuento de ocurrencias')\n",
    "    plt.xticks(rotation=90)\n",
    "    plt.show()\n",
    "freq_orders(orders_df=orders)"
   ]
  },
  {
   "cell_type": "markdown",
   "metadata": {},
   "source": [
    "Parece que lo que podría ser un proxy al retention rate es bastante bajo. La mayoría de ordenes son de usuarios que hasta el momento no han vuelto a comprar. El máximo de ordenes de un usuario es 25 (solo ocurre en 1 usuario)"
   ]
  },
  {
   "cell_type": "markdown",
   "metadata": {},
   "source": [
    "## EDA - Users\n",
    "\n",
    "A continuación se presentan algunas hipótesis o análisis descriptivos de los usuarios que pretenden responder a ciertas preguntas para entender mejor el negocio."
   ]
  },
  {
   "cell_type": "markdown",
   "metadata": {},
   "source": [
    "### Descriptiva de los usuarios"
   ]
  },
  {
   "cell_type": "code",
   "execution_count": null,
   "metadata": {},
   "outputs": [],
   "source": [
    "def user_desc(user_df):\n",
    "    count_user_segment = user_df['user_segment'].value_counts()\n",
    "    count_user_nuts1 = user_df['user_nuts1'].value_counts()\n",
    "    plt.figure(figsize=(10, 5))\n",
    "    pctdistance = 0.5\n",
    "\n",
    "    plt.subplot(1, 2, 1)\n",
    "    plt.pie(count_user_segment, labels=count_user_segment.index, autopct='%1.1f%%', startangle=90, pctdistance=pctdistance)\n",
    "    plt.title('Porcentaje de user_segment')\n",
    "    plt.subplot(1, 2, 2)\n",
    "    plt.pie(count_user_nuts1, labels=count_user_nuts1.index, autopct='%1.1f%%', startangle=90, pctdistance=pctdistance)\n",
    "    plt.title('Porcentaje de user_nuts1')\n",
    "\n",
    "    plt.tight_layout()\n",
    "    plt.show()\n",
    "user_desc(user_df=users)"
   ]
  },
  {
   "cell_type": "code",
   "execution_count": 63,
   "metadata": {},
   "outputs": [
    {
     "name": "stdout",
     "output_type": "stream",
     "text": [
      "6.52%\n"
     ]
    }
   ],
   "source": [
    "def non_empty_user(user_df):\n",
    "    total_users = len(user_df)\n",
    "    non_empty_cells = user_df['count_people'].count()\n",
    "    return (non_empty_cells / total_users) * 100\n",
    "print(f'{non_empty_user(user_df=users):.2f}%')"
   ]
  },
  {
   "cell_type": "markdown",
   "metadata": {},
   "source": [
    "Los usuarios están bastante balanceados en términos de user segment y un 54% pertenecen a las categorías (espaciales) ULI, UKJ, UKK. Recordemos que el unico df con NaN era, de Users, las columnas que describen al usuario (posiblemente usuarios sin cuenta en la tienda online o que no han completado sus perfiles). Los usuarios que completan los campos son un 6.52% del total, por lo que al establecer hipotesis los contrastes no serán representativos. En el apartado siguiente obtendremos una frecuencia de los tipos de users.   "
   ]
  },
  {
   "cell_type": "code",
   "execution_count": null,
   "metadata": {},
   "outputs": [],
   "source": [
    "def create_user_type_dict(users_df):\n",
    "    users_df = users_df.dropna(subset=['count_people'])\n",
    "    user_type_dict = {}\n",
    "    \n",
    "    for index, row in users_df.iterrows():\n",
    "        user_type_str = f\"count_adults_{row['count_adults']}_count_children_{row['count_children']}_count_babies_{row['count_babies']}_count_pets_{row['count_pets']}\"\n",
    "        user_type_dict[user_type_str] = user_type_dict.get(user_type_str, 0) + 1\n",
    "    sorted_user_type_dict = dict(sorted(user_type_dict.items(), key=lambda x: x[1], reverse=True))\n",
    "    return sorted_user_type_dict\n",
    "print(json.dumps(create_user_type_dict(users_df=users), indent=2))"
   ]
  },
  {
   "cell_type": "markdown",
   "metadata": {},
   "source": [
    "El usuario mas comúnm (de ese 6.52%) es un usuario con 2 adultos (58 users), seguido de un solo adulto (50 users). El usuario 'familia estandar' (2 adultos, 2 niños y 1 mascota) es el tercer tipo de user mas frecuente (25 users). En general hay pocas familias con bebés, pero suponiendo que estratificamos la muestra de users con descripcion a la poblacion de 'user', interesa cubrir productos para bebés. (Bonus: Hay 2 users que son solo mascotas jeje)"
   ]
  },
  {
   "cell_type": "markdown",
   "metadata": {},
   "source": [
    "### Inscripción de Users\n",
    "\n",
    "Comprobaremos el registro de usuarios en el tipo segun user_segment. Es ua categoria balanceada pero podremos identificar si algun tipo de segmento de usuario fue incorporado despues en la tienda  veremos como ha sido su ritmo de incorporacion"
   ]
  },
  {
   "cell_type": "code",
   "execution_count": null,
   "metadata": {},
   "outputs": [],
   "source": [
    "def inc_users(user_df):\n",
    "    user_df['first_ordered_at'] = pd.to_datetime(user_df['first_ordered_at'])\n",
    "    plt.figure(figsize=(9, 5))\n",
    "    for segment in user_df['user_segment'].unique():\n",
    "        customer_acq = user_df[user_df['user_segment'] == segment].resample('M', on='first_ordered_at')['user_id'].count()\n",
    "        customer_acq.plot(kind='line', marker='.', label=segment)\n",
    "    plt.xlabel('Time')\n",
    "    plt.ylabel('Customers')\n",
    "    plt.title('Evolucion Users time')\n",
    "    plt.legend()\n",
    "    plt.show()\n",
    "inc_users(user_df=users)"
   ]
  },
  {
   "cell_type": "markdown",
   "metadata": {},
   "source": [
    "Rechazamos H0, ya que no parece haber diferencia en el ritmo de incorporación de usuarios entre user_segment. Los usuarios siguen una tendencia alcista y se diferencias tres estratos: [Apr_20:Dec_20]; [jan_21:Sep_21]; [Oct_22:Today]. Similar al gráfico de órdenes ha habido un Spike lo importante de nuevos usuarios en Septiembre de 2021, por lo que algún patrocinio ayudó a expandir el nombre de la tienda. Se repite la bajada drástica de nuevos usuarios para los dos segmentos el último mes, pero como hemos dicho anteriormente, de los datos de todo el mes todavía no han sido recogidos."
   ]
  },
  {
   "cell_type": "markdown",
   "metadata": {},
   "source": [
    "## EDA - Regulars"
   ]
  },
  {
   "cell_type": "markdown",
   "metadata": {},
   "source": [
    "Miraremos los users con mas reservas, los items mas reservados y contrastaremos H0: los users con items guardados compran mas que los usuarios sin listar items regulares"
   ]
  },
  {
   "cell_type": "code",
   "execution_count": null,
   "metadata": {},
   "outputs": [],
   "source": [
    "def users_regulars_frec(regulares_df):\n",
    "    # Primer gráfico de barras - user_id\n",
    "    user_counts = regulares_df['user_id'].str[:4].value_counts().head(10)\n",
    "    plt.figure(figsize=(12, 5))\n",
    "    plt.subplot(1, 2, 1)\n",
    "    user_counts.plot(kind='bar')\n",
    "    plt.title('Recuento de reservas por user_id (primeras 4 letras)')\n",
    "    plt.xlabel('user_id (primeras 4 letras)')\n",
    "    plt.ylabel('Recuento de reservas')\n",
    "\n",
    "    # Segundo gráfico de barras - variant_id\n",
    "    variant_counts = regulares_df['variant_id'].value_counts().head(10)\n",
    "    plt.subplot(1, 2, 2)\n",
    "    variant_counts.plot(kind='bar')\n",
    "    plt.title('Recuento de reservas por variant_id')\n",
    "    plt.xlabel('variant_id')\n",
    "    plt.ylabel('Recuento de reservas')\n",
    "\n",
    "    plt.tight_layout()\n",
    "    plt.show()\n",
    "users_regulars_frec(regulares_df=regulars)"
   ]
  },
  {
   "cell_type": "markdown",
   "metadata": {},
   "source": [
    "Hay un usuario con mas de 700 items reservados y el item mas reservado con diferencia es una salsa Heinz, con mas de 250 reservas."
   ]
  },
  {
   "cell_type": "code",
   "execution_count": 89,
   "metadata": {},
   "outputs": [
    {
     "name": "stdout",
     "output_type": "stream",
     "text": [
      "{'orders_by_reserved_users': 4025, 'orders_by_non_reserved_users': 4748}\n"
     ]
    }
   ],
   "source": [
    "def count_orders_by_reservation(orders_df, regulars_df):\n",
    "    unique_reserved_users = regulars_df['user_id'].unique()\n",
    "    merged_df = orders_df[orders_df['user_id'].isin(unique_reserved_users)]\n",
    "    orders_by_reserved_users = len(merged_df)\n",
    "    orders_by_non_reserved_users = len(orders) - orders_by_reserved_users\n",
    "    \n",
    "    result_dict = {\n",
    "        'orders_by_reserved_users': orders_by_reserved_users,\n",
    "        'orders_by_non_reserved_users': orders_by_non_reserved_users\n",
    "    }\n",
    "    return result_dict\n",
    "print(count_orders_by_reservation(orders_df=orders, regulars_df=regulars))"
   ]
  },
  {
   "cell_type": "markdown",
   "metadata": {},
   "source": [
    "Los usuarios que tiene ítems regulares no compran mas que el resto de usuarios, ya que han hehco el 45% de las ordenes"
   ]
  },
  {
   "cell_type": "markdown",
   "metadata": {},
   "source": [
    "## ## EDA - Abondoned"
   ]
  },
  {
   "cell_type": "markdown",
   "metadata": {},
   "source": [
    "Como hipotesis inicial podríamos plantear que los usuarios con hijos (childre) son los que más abandonan carritos, ya que el hijo puede formar una cesta que luego el padre decida no comprar o cambiar los productos"
   ]
  },
  {
   "cell_type": "code",
   "execution_count": 9,
   "metadata": {},
   "outputs": [
    {
     "name": "stdout",
     "output_type": "stream",
     "text": [
      "Número de usuarios con hijos que han abandonado carritos: 52.31%\n"
     ]
    }
   ],
   "source": [
    "def users_abnadoned(abandoned_carts_df, users_df):\n",
    "    users_with_children = users_df[users_df['count_children'] > 0]\n",
    "    users_with_abandoned_carts = abandoned_carts_df['user_id'].unique()\n",
    "    pct = (\n",
    "        len(users_with_children[users_with_children['user_id'].isin(users_with_abandoned_carts)]) /\n",
    "        len(users_with_children)\n",
    "    ) * 100\n",
    "    return pct\n",
    "# Mostrar el resultado\n",
    "print(f\"Número de usuarios con hijos que han abandonado carritos: {users_abnadoned(abandoned_carts_df=abandoned_carts, users_df=users):.2f}%\")"
   ]
  },
  {
   "cell_type": "markdown",
   "metadata": {},
   "source": [
    "teniendo en cuenta que el numero de usuarios con hijos del df de usuarios es practicamente residual, podemos afirmar que la hipotesis se cumple: los usuarios con hijos tienden a abandonar mas carritos"
   ]
  },
  {
   "cell_type": "markdown",
   "metadata": {},
   "source": [
    "Podemos comprobar si especialmente se abandonan más carritos de compra en navidad."
   ]
  },
  {
   "cell_type": "code",
   "execution_count": 11,
   "metadata": {},
   "outputs": [
    {
     "data": {
      "image/png": "[encoded data removed]",
      "text/plain": [
       "<Figure size 800x500 with 1 Axes>"
      ]
     },
     "metadata": {},
     "output_type": "display_data"
    }
   ],
   "source": [
    "def chart_abandoned(abandoned_carts_df):\n",
    "    abandoned_carts_df['created_at'] = pd.to_datetime(abandoned_carts_df['created_at'])\n",
    "    monthly_counts = abandoned_carts.resample('M', on='created_at').size()\n",
    "\n",
    "    plt.figure(figsize=(8, 5))\n",
    "    monthly_counts.plot(kind='line', marker='o')\n",
    "    plt.xlabel('Fecha (Mes)')\n",
    "    plt.ylabel('Número de carritos abandonados')\n",
    "    plt.title('Número de carritos abandonados por mes')\n",
    "    plt.grid(True)\n",
    "    plt.show()\n",
    "chart_abandoned(abandoned_carts_df=abandoned_carts)"
   ]
  },
  {
   "cell_type": "markdown",
   "metadata": {},
   "source": [
    "Parece que el número de carritos abandonados es nulo antes de julio de 2021, y crece exponencialmente después. Esto podría indicar que estas fichas de la página web fue habilitada entonces"
   ]
  }
 ],
 "metadata": {
  "kernelspec": {
   "display_name": ".venv",
   "language": "python",
   "name": "python3"
  },
  "language_info": {
   "codemirror_mode": {
    "name": "ipython",
    "version": 3
   },
   "file_extension": ".py",
   "mimetype": "text/x-python",
   "name": "python",
   "nbconvert_exporter": "python",
   "pygments_lexer": "ipython3",
   "version": "3.11.0"
  },
  "orig_nbformat": 4
 },
 "nbformat": 4,
 "nbformat_minor": 2
}
