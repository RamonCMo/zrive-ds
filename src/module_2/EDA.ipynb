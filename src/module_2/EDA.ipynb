{
 "cells": [
  {
   "cell_type": "markdown",
   "metadata": {},
   "source": [
    "# Module 2.- EDA"
   ]
  },
  {
   "cell_type": "code",
   "execution_count": null,
   "metadata": {},
   "outputs": [],
   "source": [
    "import pandas as pd\n",
    "import os\n",
    "import pyarrow\n",
    "import contextlib\n",
    "import io"
   ]
  },
  {
   "cell_type": "markdown",
   "metadata": {},
   "source": [
    "## Load BDD"
   ]
  },
  {
   "cell_type": "code",
   "execution_count": null,
   "metadata": {},
   "outputs": [],
   "source": [
    "PATH = '../../data/'\n",
    "parquet_files = [\"abandoned_carts.parquet\",\"inventory.parquet\",\"orders.parquet\", \"regulars.parquet\", \"users.parquet\"]\n",
    "\n",
    "def get_info_middle(df):\n",
    "    fobj = io.StringIO()\n",
    "    with contextlib.redirect_stdout(fobj) as stdout:\n",
    "        df.info()\n",
    "    fobj.seek(0)\n",
    "    return '\\n'.join(fobj.read().splitlines()[3:-2])\n",
    "\n",
    "abandoned_carts = pd.read_parquet(PATH + parquet_files[0], engine='pyarrow')\n",
    "print('#####Abandoned######\\n#####')\n",
    "print(abandoned_carts.info())\n",
    "print('#####Shape######')\n",
    "print(abandoned_carts.shape)\n",
    "\n",
    "inventory = pd.read_parquet(PATH + parquet_files[1], engine='pyarrow')\n",
    "print('#####Inventory#####\\n#####')\n",
    "print(inventory.info())\n",
    "print('#####Shape######')\n",
    "print(inventory.shape)"
   ]
  },
  {
   "cell_type": "code",
   "execution_count": null,
   "metadata": {},
   "outputs": [],
   "source": [
    "orders = pd.read_parquet(PATH + parquet_files[2], engine='pyarrow')\n",
    "print('#####Orders######\\n#####')\n",
    "print(orders.info())\n",
    "print('#####Shape######')\n",
    "print(orders.shape)\n",
    "\n",
    "regulars = pd.read_parquet(PATH + parquet_files[3], engine='pyarrow')\n",
    "print('#####Regulars#####\\n#####')\n",
    "print(regulars.info())\n",
    "print('#####Shape######')\n",
    "print(regulars.shape)"
   ]
  },
  {
   "cell_type": "code",
   "execution_count": null,
   "metadata": {},
   "outputs": [],
   "source": [
    "users = pd.read_parquet(PATH + parquet_files[4], engine='pyarrow')\n",
    "print('#####Users#####\\n#####')\n",
    "print(users.info())\n",
    "print('#####Shape######')\n",
    "print(users.shape)"
   ]
  },
  {
   "cell_type": "markdown",
   "metadata": {},
   "source": [
    "Los datatypes de cada variable son correctos. La unica tabla que contiene Nulls es la de Users, las variables que describen al grupo de usuarios de compra (People, Adults, Children, Babies, Pets), donde People es la que engloba a las demás (sin contar Pets). Para las tablas de ordenes/abandonados los productos se identifican entre comas ','. Vamos a comprobar que no haya duplicidades en registros que deberian ser unicos."
   ]
  },
  {
   "cell_type": "code",
   "execution_count": 20,
   "metadata": {},
   "outputs": [
    {
     "name": "stdout",
     "output_type": "stream",
     "text": [
      "#####Abandoned######\n",
      "True\n",
      "#####Inventoy######\n",
      "True\n",
      "#####Orders######\n",
      "True\n",
      "#####Regulars######\n",
      "False\n",
      "#####Users######\n",
      "True\n"
     ]
    }
   ],
   "source": [
    "def unique_val(dataframe, columna):\n",
    "    return dataframe[columna].nunique() == dataframe.shape[0]\n",
    "print('#####Abandoned######')\n",
    "print(unique_val(abandoned_carts, 'id'))\n",
    "print('#####Inventoy######')\n",
    "print(unique_val(inventory, 'variant_id'))\n",
    "print('#####Orders######')\n",
    "print(unique_val(orders, 'id'))\n",
    "print('#####Regulars######')\n",
    "print(unique_val(regulars, 'user_id'))\n",
    "print('#####Users######')\n",
    "print(unique_val(users, 'user_id'))"
   ]
  },
  {
   "cell_type": "markdown",
   "metadata": {},
   "source": [
    "Con esto podemos ver que un usuario puede pedir mas de un item como consumo habitual."
   ]
  },
  {
   "cell_type": "markdown",
   "metadata": {},
   "source": []
  }
 ],
 "metadata": {
  "kernelspec": {
   "display_name": ".venv",
   "language": "python",
   "name": "python3"
  },
  "language_info": {
   "codemirror_mode": {
    "name": "ipython",
    "version": 3
   },
   "file_extension": ".py",
   "mimetype": "text/x-python",
   "name": "python",
   "nbconvert_exporter": "python",
   "pygments_lexer": "ipython3",
   "version": "3.11.0"
  },
  "orig_nbformat": 4
 },
 "nbformat": 4,
 "nbformat_minor": 2
}
