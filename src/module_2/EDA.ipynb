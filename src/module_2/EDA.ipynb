{
 "cells": [
  {
   "cell_type": "markdown",
   "metadata": {},
   "source": [
    "# Module 2.- EDA"
   ]
  },
  {
   "cell_type": "code",
   "execution_count": 12,
   "metadata": {},
   "outputs": [],
   "source": [
    "import pandas as pd\n",
    "import os\n",
    "import pyarrow\n",
    "import contextlib\n",
    "import io\n",
    "from collections import Counter"
   ]
  },
  {
   "cell_type": "markdown",
   "metadata": {},
   "source": [
    "## Load BDD"
   ]
  },
  {
   "cell_type": "code",
   "execution_count": 2,
   "metadata": {},
   "outputs": [],
   "source": [
    "PATH = '../../data/'\n",
    "parquet_files = [\"abandoned_carts.parquet\",\"inventory.parquet\",\"orders.parquet\", \"regulars.parquet\", \"users.parquet\"]\n",
    "\n",
    "def get_info_middle(df):\n",
    "    fobj = io.StringIO()\n",
    "    with contextlib.redirect_stdout(fobj) as stdout:\n",
    "        df.info()\n",
    "    fobj.seek(0)\n",
    "    return '\\n'.join(fobj.read().splitlines()[3:-2])\n",
    "\n",
    "abandoned_carts = pd.read_parquet(PATH + parquet_files[0], engine='pyarrow')\n",
    "inventory = pd.read_parquet(PATH + parquet_files[1], engine='pyarrow')\n",
    "orders = pd.read_parquet(PATH + parquet_files[2], engine='pyarrow')\n",
    "regulars = pd.read_parquet(PATH + parquet_files[3], engine='pyarrow')\n",
    "users = pd.read_parquet(PATH + parquet_files[4], engine='pyarrow')"
   ]
  },
  {
   "cell_type": "code",
   "execution_count": null,
   "metadata": {},
   "outputs": [],
   "source": [
    "print('#####Abandoned######\\n#####')\n",
    "print(abandoned_carts.info())\n",
    "print('#####Shape######')\n",
    "print(abandoned_carts.shape)\n",
    "\n",
    "print('#####Inventory#####\\n#####')\n",
    "print(inventory.info())\n",
    "print('#####Shape######')\n",
    "print(inventory.shape)"
   ]
  },
  {
   "cell_type": "code",
   "execution_count": null,
   "metadata": {},
   "outputs": [],
   "source": [
    "\n",
    "print('#####Orders######\\n#####')\n",
    "print(orders.info())\n",
    "print('#####Shape######')\n",
    "print(orders.shape)\n",
    "\n",
    "print('#####Regulars#####\\n#####')\n",
    "print(regulars.info())\n",
    "print('#####Shape######')\n",
    "print(regulars.shape)"
   ]
  },
  {
   "cell_type": "code",
   "execution_count": null,
   "metadata": {},
   "outputs": [],
   "source": [
    "print('#####Users#####\\n#####')\n",
    "print(users.info())\n",
    "print('#####Shape######')\n",
    "print(users.shape)"
   ]
  },
  {
   "cell_type": "markdown",
   "metadata": {},
   "source": [
    "Los datatypes de cada variable son correctos. La unica tabla que contiene Nulls es la de Users, las variables que describen al grupo de usuarios de compra (People, Adults, Children, Babies, Pets), donde People es la que engloba a las demás (sin contar Pets). Para las tablas de ordenes/abandonados los productos se identifican entre comas ','. Vamos a comprobar que no haya duplicidades en registros que deberian ser unicos. "
   ]
  },
  {
   "cell_type": "code",
   "execution_count": null,
   "metadata": {},
   "outputs": [],
   "source": [
    "def unique_val(dataframe, columna):\n",
    "    return dataframe[columna].nunique() == dataframe.shape[0]\n",
    "print('#####Abandoned######')\n",
    "print(unique_val(abandoned_carts, 'id'))\n",
    "print('#####Inventoy######')\n",
    "print(unique_val(inventory, 'variant_id'))\n",
    "print('#####Orders######')\n",
    "print(unique_val(orders, 'id'))\n",
    "print('#####Regulars######')\n",
    "print(unique_val(regulars, 'user_id'))\n",
    "print('#####Users######')\n",
    "print(unique_val(users, 'user_id'))"
   ]
  },
  {
   "cell_type": "markdown",
   "metadata": {},
   "source": [
    "Con esto Podemos ver que un usuario puede pedir mas de un item como consumo habitual. Comprobaremos tmabien que todos los items del inventario estan en alguna de las tablas que conteng items (es decir, no hay itmes que no estan registrados)."
   ]
  },
  {
   "cell_type": "code",
   "execution_count": null,
   "metadata": {},
   "outputs": [],
   "source": [
    "def check_items(orders_df, regulars_df, abandoned_carts_df, inventory_df):\n",
    "    items_inventory = inventory_df['variant_id'].unique()\n",
    "\n",
    "    orders_df = orders_df.explode('ordered_items')\n",
    "    abandoned_carts_df = abandoned_carts_df.explode('variant_id')\n",
    "    items_orders = orders_df['ordered_items'].unique()\n",
    "    items_regulars = regulars_df['variant_id'].unique()\n",
    "    items_abandoned_carts = abandoned_carts_df['variant_id'].unique()\n",
    "    problemas = {}\n",
    "    if len(items_orders) > len(items_inventory):\n",
    "        problemas['orders'] = [len(items_orders), len(items_inventory)]\n",
    "    else:\n",
    "        problemas['orders'] = 'correcto'    \n",
    "    if len(items_regulars) > len(items_inventory):\n",
    "        problemas['regulars'] = [len(items_regulars), len(items_inventory)]\n",
    "    else:\n",
    "        problemas['regulars'] = 'correcto'\n",
    "    if len(items_abandoned_carts) > len(items_inventory):\n",
    "        problemas['abandoned_carts'] = [len(items_abandoned_carts), len(items_inventory)]\n",
    "    else:\n",
    "        problemas['abandoned_carts'] = 'correcto'\n",
    "    return problemas\n",
    "\n",
    "resultados = check_items(orders_df= orders, regulars_df=regulars, abandoned_carts_df=abandoned_carts, inventory_df=inventory)\n",
    "print(resultados)"
   ]
  },
  {
   "cell_type": "markdown",
   "metadata": {},
   "source": [
    "Para las tablas orders y regulars encontramos items que no estan ergistrados en el inventario y será dificil trackear sus nombres, tipo y propiedades. Esto puede ser debido a un problema al identificar los productos al pasarlos por el lector o que sean items que se externalizan a proveedores no registrados. Tambien que un mismo item esté identificado dos veces. Se tendra en cuenta en prompts siguentes para no dar informacion de items que no se registren. Idealmente haremos lo mismo para los usuarios."
   ]
  },
  {
   "cell_type": "code",
   "execution_count": null,
   "metadata": {},
   "outputs": [],
   "source": [
    "def check_users(users_df, orders_df, regulars_df, abandoned_carts_df):\n",
    "    check_users = users_df['user_id'].unique()\n",
    "    check_orders = orders_df['user_id'].unique()\n",
    "    check_regulars = regulars_df['user_id'].unique()\n",
    "    check_abandoned_carts = abandoned_carts_df['user_id'].unique()\n",
    "    problemas = {}\n",
    "    if len(check_orders) > len(check_users):\n",
    "        problemas['orders'] = [len(check_orders), len(check_users)]\n",
    "    else:\n",
    "        problemas['orders'] = 'correcto'    \n",
    "    if len(check_regulars) > len(check_users):\n",
    "        problemas['regulars'] = [len(check_regulars), len(check_users)]\n",
    "    else:\n",
    "        problemas['regulars'] = 'correcto'\n",
    "    if len(check_abandoned_carts) > len(check_users):\n",
    "        problemas['abandoned_carts'] = [len(check_abandoned_carts), len(check_users)]\n",
    "    else:\n",
    "        problemas['abandoned_carts'] = 'correcto'\n",
    "    return problemas\n",
    "\n",
    "resultados = check_users(users_df=users, orders_df=orders, regulars_df=regulars, abandoned_carts_df=abandoned_carts)\n",
    "print(resultados)"
   ]
  },
  {
   "cell_type": "markdown",
   "metadata": {},
   "source": [
    "Los usuarios estan, por contra, todos identificados."
   ]
  },
  {
   "cell_type": "markdown",
   "metadata": {},
   "source": [
    "## EDA\n",
    "\n",
    "A continuación se presentan algunas hipótesis o análisis descriptivo de los datos que pretenden responder a ciertas preguntas para entender mejor el negocio."
   ]
  },
  {
   "cell_type": "markdown",
   "metadata": {},
   "source": [
    "### Items más vendidos\n",
    "\n",
    "En esta seccion obtendremos un head de los items mas vendidos y las clase de item más vendido (en toda la historia de la tienda). "
   ]
  },
  {
   "cell_type": "code",
   "execution_count": null,
   "metadata": {},
   "outputs": [],
   "source": [
    "def most_item(orders_df, inventory_df):\n",
    "    orders_df = orders_df.explode('ordered_items')\n",
    "    item_counts = orders_df['ordered_items'].value_counts().reset_index()\n",
    "    item_counts.columns = ['Item_ID', 'Cantidad']\n",
    "    merged_df = item_counts.merge(inventory_df, left_on='Item_ID', right_on='variant_id', how='left')\n",
    "    return merged_df[merged_df['variant_id'].notnull()]\n",
    "result1 = most_item(orders_df=orders, inventory_df=inventory)\n",
    "print('Los items mas vendidos en la histira de la tienda son:')\n",
    "print(result1.head())"
   ]
  },
  {
   "cell_type": "code",
   "execution_count": null,
   "metadata": {},
   "outputs": [],
   "source": [
    "print(result1.tail())"
   ]
  },
  {
   "cell_type": "markdown",
   "metadata": {},
   "source": [
    "Interesante ver como de los productos mas vendidos los rollos de papel son de dos proveedores diferentes (plenty y whogivesacrap), siendo el segundo un 35% más caro; vale la pena hacer un analiss de sensibilidad en precios de ese item. Al listar los items menos vendidos encontramos items de afeitado. Podemos cuestionar seguir vendiendolos (teniendo encuenta que es solo un exploratory data-analysis)"
   ]
  },
  {
   "cell_type": "markdown",
   "metadata": {},
   "source": [
    "### Cesta promedio\n",
    "Par plantear la cesta promedio podemos hacer simplemente un group de la lista de items de cada order pero hemos de tener en cuenta que es facil que se nos escapen cestas que consideremos parecidas al no contener exactamente los mismos items"
   ]
  },
  {
   "cell_type": "code",
   "execution_count": 35,
   "metadata": {},
   "outputs": [
    {
     "name": "stdout",
     "output_type": "stream",
     "text": [
      "Cesta Promedio: ([array(['oat-milk', 'vegan'], dtype=object)], 43.16)\n",
      "Precio Total de la Cesta Promedio: 43.16\n"
     ]
    }
   ],
   "source": [
    "def common_cart(orders_df, inventory_df):\n",
    "    orders_df['cesta'] = orders_df['ordered_items'].astype(str)\n",
    "\n",
    "    # Realizar un groupby en la columna 'cesta' para contar cuántas veces se repite cada cesta\n",
    "    cestas_contadas = orders_df.groupby('cesta').size().reset_index(name='cantidad')\n",
    "    cesta_mas_comun = cestas_contadas.loc[cestas_contadas['cantidad'].idxmax()]['cesta']\n",
    "    # Filtrar el DataFrame original para obtener solo la fila de la cesta más común\n",
    "    cesta_df = orders_df[orders_df['cesta'] == cesta_mas_comun].head(1)\n",
    "    cesta_explotada = cesta_df.explode('ordered_items')\n",
    "    #cONTAMOS cantidad\n",
    "    cesta_con_cantidad = cesta_explotada.groupby('ordered_items').size().reset_index(name='cantidad')\n",
    "    cesta_con_precios = cesta_con_cantidad.merge(inventory_df, left_on='ordered_items', right_on='variant_id', how='left')\n",
    "    cesta_con_precios['precio_total'] = cesta_con_precios['cantidad'] * cesta_con_precios['price']\n",
    "\n",
    "    #Obtener el nombre de los ítems de la cesta promedio y el precio total de la cesta\n",
    "    nombres_cesta = cesta_con_precios['tags'].tolist()\n",
    "    precio_total_cesta = cesta_con_precios['precio_total'].sum()\n",
    "\n",
    "    return nombres_cesta,precio_total_cesta\n",
    "nombres_cesta = common_cart(orders_df=orders, inventory_df=inventory)\n",
    "print(\"Cesta Promedio:\", nombres_cesta)\n",
    "print(\"Precio Total de la Cesta Promedio:\", precio_total_cesta)\n"
   ]
  },
  {
   "cell_type": "markdown",
   "metadata": {},
   "source": [
    "Parece que la cesta mas comun es comprar cuatro bricks de leche"
   ]
  }
 ],
 "metadata": {
  "kernelspec": {
   "display_name": ".venv",
   "language": "python",
   "name": "python3"
  },
  "language_info": {
   "codemirror_mode": {
    "name": "ipython",
    "version": 3
   },
   "file_extension": ".py",
   "mimetype": "text/x-python",
   "name": "python",
   "nbconvert_exporter": "python",
   "pygments_lexer": "ipython3",
   "version": "3.11.0"
  },
  "orig_nbformat": 4
 },
 "nbformat": 4,
 "nbformat_minor": 2
}
